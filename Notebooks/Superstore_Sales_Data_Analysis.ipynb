{
 "cells": [
  {
   "cell_type": "markdown",
   "id": "ccd7c018-2eaf-4371-8630-3e2d054ac8ae",
   "metadata": {},
   "source": [
    "# Data analysis of Superstore Sales Dataset\n",
    "### Feature Engineering\n",
    "\n",
    "To enhance analysis and derive deeper insights, I engineered the following new features from the raw dataset:\n",
    "\n",
    "- **Year**: Extracted from `order_date` to study yearly trends.\n",
    "- **Month**: Extracted numerical month from `order_date`.\n",
    "- **Month_Name**: Derived full month name using SQL's `DATE_FORMAT()` for better readability in visualizations.\n",
    "- **Quarter**: Extracted using SQL's `QUARTER()` function to observe quarterly performance.\n",
    "- **Day**: Extracted day of the month for potential micro-level insights.\n",
    "- **Weekday**: Created to analyze performance based on the day of the week.\n",
    "- **Top 10 Products / States**: Identified top contributors using `GROUP BY` and `ORDER BY`.\n",
    "\n",
    "These engineered features helped me create powerful visualizations and uncover seasonal, regional, and product-level patterns.\n",
    "\n",
    "# Upload dataset to MySQL"
   ]
  },
  {
   "cell_type": "code",
   "execution_count": 1,
   "id": "0947917a-ea77-4c0c-b1e0-4d0c2a692f1e",
   "metadata": {},
   "outputs": [
    {
     "name": "stdout",
     "output_type": "stream",
     "text": [
      "Collecting mysql-connector-python\n",
      "  Downloading mysql_connector_python-9.3.0-cp313-cp313-win_amd64.whl.metadata (7.7 kB)\n",
      "Downloading mysql_connector_python-9.3.0-cp313-cp313-win_amd64.whl (16.4 MB)\n",
      "   ---------------------------------------- 0.0/16.4 MB ? eta -:--:--\n",
      "   ----------------- ---------------------- 7.1/16.4 MB 38.5 MB/s eta 0:00:01\n",
      "   ---------------------------------------  16.3/16.4 MB 40.9 MB/s eta 0:00:01\n",
      "   ---------------------------------------- 16.4/16.4 MB 37.2 MB/s eta 0:00:00\n",
      "Installing collected packages: mysql-connector-python\n",
      "Successfully installed mysql-connector-python-9.3.0\n"
     ]
    }
   ],
   "source": [
    "!pip install mysql-connector-python"
   ]
  },
  {
   "cell_type": "code",
   "execution_count": 42,
   "id": "cf769432-d362-4672-924d-0b9f789073d5",
   "metadata": {},
   "outputs": [],
   "source": [
    "import mysql.connector\n",
    "import pandas as pd"
   ]
  },
  {
   "cell_type": "code",
   "execution_count": 66,
   "id": "66d859a1-4a64-4cff-a424-7f6a39480bdb",
   "metadata": {},
   "outputs": [],
   "source": [
    "#Read CSV file\n",
    "sales = pd.read_csv(\"E:\\Superstore_Sales_Dataset\\clean_sales_data.csv\")\n",
    "\n",
    "#Change data types accordingly and deal with null values\n",
    "sales['postal_code'] = sales['postal_code'].astype(str)\n",
    "sales['postal_code'] = sales['postal_code'].replace('nan', 'Unknown')\n",
    "\n",
    "sales['order_date'] = pd.to_datetime(sales['order_date'])\n",
    "sales['ship_date'] = pd.to_datetime(sales['ship_date'])\n"
   ]
  },
  {
   "cell_type": "code",
   "execution_count": 67,
   "id": "d62c2706-91d5-4054-b2fb-263022b238d8",
   "metadata": {},
   "outputs": [
    {
     "data": {
      "text/plain": [
       "row_id           0\n",
       "order_id         0\n",
       "order_date       0\n",
       "ship_date        0\n",
       "ship_mode        0\n",
       "customer_id      0\n",
       "customer_name    0\n",
       "segment          0\n",
       "country          0\n",
       "city             0\n",
       "state            0\n",
       "postal_code      0\n",
       "region           0\n",
       "product_id       0\n",
       "category         0\n",
       "sub_category     0\n",
       "product_name     0\n",
       "sales            0\n",
       "dtype: int64"
      ]
     },
     "execution_count": 67,
     "metadata": {},
     "output_type": "execute_result"
    }
   ],
   "source": [
    "sales.isnull().sum()"
   ]
  },
  {
   "cell_type": "code",
   "execution_count": 68,
   "id": "0ba29a79-82f7-4109-8613-74a72e5c0012",
   "metadata": {},
   "outputs": [
    {
     "data": {
      "text/plain": [
       "row_id                    int64\n",
       "order_id                 object\n",
       "order_date       datetime64[ns]\n",
       "ship_date        datetime64[ns]\n",
       "ship_mode                object\n",
       "customer_id              object\n",
       "customer_name            object\n",
       "segment                  object\n",
       "country                  object\n",
       "city                     object\n",
       "state                    object\n",
       "postal_code              object\n",
       "region                   object\n",
       "product_id               object\n",
       "category                 object\n",
       "sub_category             object\n",
       "product_name             object\n",
       "sales                   float64\n",
       "dtype: object"
      ]
     },
     "execution_count": 68,
     "metadata": {},
     "output_type": "execute_result"
    }
   ],
   "source": [
    "sales.dtypes"
   ]
  },
  {
   "cell_type": "code",
   "execution_count": 1,
   "id": "757935c9-3184-43e7-981f-08845ef22328",
   "metadata": {},
   "outputs": [
    {
     "name": "stdout",
     "output_type": "stream",
     "text": [
      "Requirement already satisfied: SQLAlchemy in c:\\users\\meghu\\anaconda3\\lib\\site-packages (2.0.39)\n",
      "Requirement already satisfied: greenlet!=0.4.17 in c:\\users\\meghu\\anaconda3\\lib\\site-packages (from SQLAlchemy) (3.1.1)\n",
      "Requirement already satisfied: typing-extensions>=4.6.0 in c:\\users\\meghu\\anaconda3\\lib\\site-packages (from SQLAlchemy) (4.12.2)\n"
     ]
    }
   ],
   "source": [
    "#To upload to MYSQL\n",
    "!pip install SQLAlchemy\n"
   ]
  },
  {
   "cell_type": "code",
   "execution_count": 69,
   "id": "ddfeb9f8-8070-48ec-8bf7-9d1657b64596",
   "metadata": {},
   "outputs": [],
   "source": [
    "from sqlalchemy import create_engine"
   ]
  },
  {
   "cell_type": "code",
   "execution_count": 70,
   "id": "5f1abeb1-469b-477b-8caa-370a565e951d",
   "metadata": {},
   "outputs": [
    {
     "data": {
      "text/plain": [
       "9800"
      ]
     },
     "execution_count": 70,
     "metadata": {},
     "output_type": "execute_result"
    }
   ],
   "source": [
    "#Upload cmd to MySQL\n",
    "sales.to_sql(\n",
    "    name='clean_sales_data',\n",
    "    con=engine,\n",
    "    if_exists='replace',\n",
    "    index=False,\n",
    "    chunksize=1000  # Upload 1000 rows at a time\n",
    ")\n"
   ]
  },
  {
   "cell_type": "code",
   "execution_count": 71,
   "id": "94a3ee02-1980-4381-b50b-e87a8ac1ce2a",
   "metadata": {},
   "outputs": [
    {
     "data": {
      "text/html": [
       "<div>\n",
       "<style scoped>\n",
       "    .dataframe tbody tr th:only-of-type {\n",
       "        vertical-align: middle;\n",
       "    }\n",
       "\n",
       "    .dataframe tbody tr th {\n",
       "        vertical-align: top;\n",
       "    }\n",
       "\n",
       "    .dataframe thead th {\n",
       "        text-align: right;\n",
       "    }\n",
       "</style>\n",
       "<table border=\"1\" class=\"dataframe\">\n",
       "  <thead>\n",
       "    <tr style=\"text-align: right;\">\n",
       "      <th></th>\n",
       "      <th>row_id</th>\n",
       "      <th>order_id</th>\n",
       "      <th>order_date</th>\n",
       "      <th>ship_date</th>\n",
       "      <th>ship_mode</th>\n",
       "      <th>customer_id</th>\n",
       "      <th>customer_name</th>\n",
       "      <th>segment</th>\n",
       "      <th>country</th>\n",
       "      <th>city</th>\n",
       "      <th>state</th>\n",
       "      <th>postal_code</th>\n",
       "      <th>region</th>\n",
       "      <th>product_id</th>\n",
       "      <th>category</th>\n",
       "      <th>sub_category</th>\n",
       "      <th>product_name</th>\n",
       "      <th>sales</th>\n",
       "    </tr>\n",
       "  </thead>\n",
       "  <tbody>\n",
       "    <tr>\n",
       "      <th>0</th>\n",
       "      <td>1</td>\n",
       "      <td>CA-2017-152156</td>\n",
       "      <td>2017-11-08</td>\n",
       "      <td>2017-11-11</td>\n",
       "      <td>Second Class</td>\n",
       "      <td>CG-12520</td>\n",
       "      <td>Claire Gute</td>\n",
       "      <td>Consumer</td>\n",
       "      <td>United States</td>\n",
       "      <td>Henderson</td>\n",
       "      <td>Kentucky</td>\n",
       "      <td>42420.0</td>\n",
       "      <td>South</td>\n",
       "      <td>FUR-BO-10001798</td>\n",
       "      <td>Furniture</td>\n",
       "      <td>Bookcases</td>\n",
       "      <td>Bush Somerset Collection Bookcase</td>\n",
       "      <td>261.9600</td>\n",
       "    </tr>\n",
       "    <tr>\n",
       "      <th>1</th>\n",
       "      <td>2</td>\n",
       "      <td>CA-2017-152156</td>\n",
       "      <td>2017-11-08</td>\n",
       "      <td>2017-11-11</td>\n",
       "      <td>Second Class</td>\n",
       "      <td>CG-12520</td>\n",
       "      <td>Claire Gute</td>\n",
       "      <td>Consumer</td>\n",
       "      <td>United States</td>\n",
       "      <td>Henderson</td>\n",
       "      <td>Kentucky</td>\n",
       "      <td>42420.0</td>\n",
       "      <td>South</td>\n",
       "      <td>FUR-CH-10000454</td>\n",
       "      <td>Furniture</td>\n",
       "      <td>Chairs</td>\n",
       "      <td>Hon Deluxe Fabric Upholstered Stacking Chairs,...</td>\n",
       "      <td>731.9400</td>\n",
       "    </tr>\n",
       "    <tr>\n",
       "      <th>2</th>\n",
       "      <td>3</td>\n",
       "      <td>CA-2017-138688</td>\n",
       "      <td>2017-06-12</td>\n",
       "      <td>2017-06-16</td>\n",
       "      <td>Second Class</td>\n",
       "      <td>DV-13045</td>\n",
       "      <td>Darrin Van Huff</td>\n",
       "      <td>Corporate</td>\n",
       "      <td>United States</td>\n",
       "      <td>Los Angeles</td>\n",
       "      <td>California</td>\n",
       "      <td>90036.0</td>\n",
       "      <td>West</td>\n",
       "      <td>OFF-LA-10000240</td>\n",
       "      <td>Office Supplies</td>\n",
       "      <td>Labels</td>\n",
       "      <td>Self-Adhesive Address Labels for Typewriters b...</td>\n",
       "      <td>14.6200</td>\n",
       "    </tr>\n",
       "    <tr>\n",
       "      <th>3</th>\n",
       "      <td>4</td>\n",
       "      <td>US-2016-108966</td>\n",
       "      <td>2016-10-11</td>\n",
       "      <td>2016-10-18</td>\n",
       "      <td>Standard Class</td>\n",
       "      <td>SO-20335</td>\n",
       "      <td>Sean O'Donnell</td>\n",
       "      <td>Consumer</td>\n",
       "      <td>United States</td>\n",
       "      <td>Fort Lauderdale</td>\n",
       "      <td>Florida</td>\n",
       "      <td>33311.0</td>\n",
       "      <td>South</td>\n",
       "      <td>FUR-TA-10000577</td>\n",
       "      <td>Furniture</td>\n",
       "      <td>Tables</td>\n",
       "      <td>Bretford CR4500 Series Slim Rectangular Table</td>\n",
       "      <td>957.5775</td>\n",
       "    </tr>\n",
       "    <tr>\n",
       "      <th>4</th>\n",
       "      <td>5</td>\n",
       "      <td>US-2016-108966</td>\n",
       "      <td>2016-10-11</td>\n",
       "      <td>2016-10-18</td>\n",
       "      <td>Standard Class</td>\n",
       "      <td>SO-20335</td>\n",
       "      <td>Sean O'Donnell</td>\n",
       "      <td>Consumer</td>\n",
       "      <td>United States</td>\n",
       "      <td>Fort Lauderdale</td>\n",
       "      <td>Florida</td>\n",
       "      <td>33311.0</td>\n",
       "      <td>South</td>\n",
       "      <td>OFF-ST-10000760</td>\n",
       "      <td>Office Supplies</td>\n",
       "      <td>Storage</td>\n",
       "      <td>Eldon Fold 'N Roll Cart System</td>\n",
       "      <td>22.3680</td>\n",
       "    </tr>\n",
       "    <tr>\n",
       "      <th>...</th>\n",
       "      <td>...</td>\n",
       "      <td>...</td>\n",
       "      <td>...</td>\n",
       "      <td>...</td>\n",
       "      <td>...</td>\n",
       "      <td>...</td>\n",
       "      <td>...</td>\n",
       "      <td>...</td>\n",
       "      <td>...</td>\n",
       "      <td>...</td>\n",
       "      <td>...</td>\n",
       "      <td>...</td>\n",
       "      <td>...</td>\n",
       "      <td>...</td>\n",
       "      <td>...</td>\n",
       "      <td>...</td>\n",
       "      <td>...</td>\n",
       "      <td>...</td>\n",
       "    </tr>\n",
       "    <tr>\n",
       "      <th>9795</th>\n",
       "      <td>9796</td>\n",
       "      <td>CA-2017-125920</td>\n",
       "      <td>2017-05-21</td>\n",
       "      <td>2017-05-28</td>\n",
       "      <td>Standard Class</td>\n",
       "      <td>SH-19975</td>\n",
       "      <td>Sally Hughsby</td>\n",
       "      <td>Corporate</td>\n",
       "      <td>United States</td>\n",
       "      <td>Chicago</td>\n",
       "      <td>Illinois</td>\n",
       "      <td>60610.0</td>\n",
       "      <td>Central</td>\n",
       "      <td>OFF-BI-10003429</td>\n",
       "      <td>Office Supplies</td>\n",
       "      <td>Binders</td>\n",
       "      <td>Cardinal HOLDit! Binder Insert Strips,Extra St...</td>\n",
       "      <td>3.7980</td>\n",
       "    </tr>\n",
       "    <tr>\n",
       "      <th>9796</th>\n",
       "      <td>9797</td>\n",
       "      <td>CA-2016-128608</td>\n",
       "      <td>2016-01-12</td>\n",
       "      <td>2016-01-17</td>\n",
       "      <td>Standard Class</td>\n",
       "      <td>CS-12490</td>\n",
       "      <td>Cindy Schnelling</td>\n",
       "      <td>Corporate</td>\n",
       "      <td>United States</td>\n",
       "      <td>Toledo</td>\n",
       "      <td>Ohio</td>\n",
       "      <td>43615.0</td>\n",
       "      <td>East</td>\n",
       "      <td>OFF-AR-10001374</td>\n",
       "      <td>Office Supplies</td>\n",
       "      <td>Art</td>\n",
       "      <td>BIC Brite Liner Highlighters, Chisel Tip</td>\n",
       "      <td>10.3680</td>\n",
       "    </tr>\n",
       "    <tr>\n",
       "      <th>9797</th>\n",
       "      <td>9798</td>\n",
       "      <td>CA-2016-128608</td>\n",
       "      <td>2016-01-12</td>\n",
       "      <td>2016-01-17</td>\n",
       "      <td>Standard Class</td>\n",
       "      <td>CS-12490</td>\n",
       "      <td>Cindy Schnelling</td>\n",
       "      <td>Corporate</td>\n",
       "      <td>United States</td>\n",
       "      <td>Toledo</td>\n",
       "      <td>Ohio</td>\n",
       "      <td>43615.0</td>\n",
       "      <td>East</td>\n",
       "      <td>TEC-PH-10004977</td>\n",
       "      <td>Technology</td>\n",
       "      <td>Phones</td>\n",
       "      <td>GE 30524EE4</td>\n",
       "      <td>235.1880</td>\n",
       "    </tr>\n",
       "    <tr>\n",
       "      <th>9798</th>\n",
       "      <td>9799</td>\n",
       "      <td>CA-2016-128608</td>\n",
       "      <td>2016-01-12</td>\n",
       "      <td>2016-01-17</td>\n",
       "      <td>Standard Class</td>\n",
       "      <td>CS-12490</td>\n",
       "      <td>Cindy Schnelling</td>\n",
       "      <td>Corporate</td>\n",
       "      <td>United States</td>\n",
       "      <td>Toledo</td>\n",
       "      <td>Ohio</td>\n",
       "      <td>43615.0</td>\n",
       "      <td>East</td>\n",
       "      <td>TEC-PH-10000912</td>\n",
       "      <td>Technology</td>\n",
       "      <td>Phones</td>\n",
       "      <td>Anker 24W Portable Micro USB Car Charger</td>\n",
       "      <td>26.3760</td>\n",
       "    </tr>\n",
       "    <tr>\n",
       "      <th>9799</th>\n",
       "      <td>9800</td>\n",
       "      <td>CA-2016-128608</td>\n",
       "      <td>2016-01-12</td>\n",
       "      <td>2016-01-17</td>\n",
       "      <td>Standard Class</td>\n",
       "      <td>CS-12490</td>\n",
       "      <td>Cindy Schnelling</td>\n",
       "      <td>Corporate</td>\n",
       "      <td>United States</td>\n",
       "      <td>Toledo</td>\n",
       "      <td>Ohio</td>\n",
       "      <td>43615.0</td>\n",
       "      <td>East</td>\n",
       "      <td>TEC-AC-10000487</td>\n",
       "      <td>Technology</td>\n",
       "      <td>Accessories</td>\n",
       "      <td>SanDisk Cruzer 4 GB USB Flash Drive</td>\n",
       "      <td>10.3840</td>\n",
       "    </tr>\n",
       "  </tbody>\n",
       "</table>\n",
       "<p>9800 rows × 18 columns</p>\n",
       "</div>"
      ],
      "text/plain": [
       "      row_id        order_id order_date  ship_date       ship_mode  \\\n",
       "0          1  CA-2017-152156 2017-11-08 2017-11-11    Second Class   \n",
       "1          2  CA-2017-152156 2017-11-08 2017-11-11    Second Class   \n",
       "2          3  CA-2017-138688 2017-06-12 2017-06-16    Second Class   \n",
       "3          4  US-2016-108966 2016-10-11 2016-10-18  Standard Class   \n",
       "4          5  US-2016-108966 2016-10-11 2016-10-18  Standard Class   \n",
       "...      ...             ...        ...        ...             ...   \n",
       "9795    9796  CA-2017-125920 2017-05-21 2017-05-28  Standard Class   \n",
       "9796    9797  CA-2016-128608 2016-01-12 2016-01-17  Standard Class   \n",
       "9797    9798  CA-2016-128608 2016-01-12 2016-01-17  Standard Class   \n",
       "9798    9799  CA-2016-128608 2016-01-12 2016-01-17  Standard Class   \n",
       "9799    9800  CA-2016-128608 2016-01-12 2016-01-17  Standard Class   \n",
       "\n",
       "     customer_id     customer_name    segment        country             city  \\\n",
       "0       CG-12520       Claire Gute   Consumer  United States        Henderson   \n",
       "1       CG-12520       Claire Gute   Consumer  United States        Henderson   \n",
       "2       DV-13045   Darrin Van Huff  Corporate  United States      Los Angeles   \n",
       "3       SO-20335    Sean O'Donnell   Consumer  United States  Fort Lauderdale   \n",
       "4       SO-20335    Sean O'Donnell   Consumer  United States  Fort Lauderdale   \n",
       "...          ...               ...        ...            ...              ...   \n",
       "9795    SH-19975     Sally Hughsby  Corporate  United States          Chicago   \n",
       "9796    CS-12490  Cindy Schnelling  Corporate  United States           Toledo   \n",
       "9797    CS-12490  Cindy Schnelling  Corporate  United States           Toledo   \n",
       "9798    CS-12490  Cindy Schnelling  Corporate  United States           Toledo   \n",
       "9799    CS-12490  Cindy Schnelling  Corporate  United States           Toledo   \n",
       "\n",
       "           state postal_code   region       product_id         category  \\\n",
       "0       Kentucky     42420.0    South  FUR-BO-10001798        Furniture   \n",
       "1       Kentucky     42420.0    South  FUR-CH-10000454        Furniture   \n",
       "2     California     90036.0     West  OFF-LA-10000240  Office Supplies   \n",
       "3        Florida     33311.0    South  FUR-TA-10000577        Furniture   \n",
       "4        Florida     33311.0    South  OFF-ST-10000760  Office Supplies   \n",
       "...          ...         ...      ...              ...              ...   \n",
       "9795    Illinois     60610.0  Central  OFF-BI-10003429  Office Supplies   \n",
       "9796        Ohio     43615.0     East  OFF-AR-10001374  Office Supplies   \n",
       "9797        Ohio     43615.0     East  TEC-PH-10004977       Technology   \n",
       "9798        Ohio     43615.0     East  TEC-PH-10000912       Technology   \n",
       "9799        Ohio     43615.0     East  TEC-AC-10000487       Technology   \n",
       "\n",
       "     sub_category                                       product_name     sales  \n",
       "0       Bookcases                  Bush Somerset Collection Bookcase  261.9600  \n",
       "1          Chairs  Hon Deluxe Fabric Upholstered Stacking Chairs,...  731.9400  \n",
       "2          Labels  Self-Adhesive Address Labels for Typewriters b...   14.6200  \n",
       "3          Tables      Bretford CR4500 Series Slim Rectangular Table  957.5775  \n",
       "4         Storage                     Eldon Fold 'N Roll Cart System   22.3680  \n",
       "...           ...                                                ...       ...  \n",
       "9795      Binders  Cardinal HOLDit! Binder Insert Strips,Extra St...    3.7980  \n",
       "9796          Art           BIC Brite Liner Highlighters, Chisel Tip   10.3680  \n",
       "9797       Phones                                        GE 30524EE4  235.1880  \n",
       "9798       Phones           Anker 24W Portable Micro USB Car Charger   26.3760  \n",
       "9799  Accessories                SanDisk Cruzer 4 GB USB Flash Drive   10.3840  \n",
       "\n",
       "[9800 rows x 18 columns]"
      ]
     },
     "execution_count": 71,
     "metadata": {},
     "output_type": "execute_result"
    }
   ],
   "source": [
    "#Check results\n",
    "query = \"select * from clean_sales_data;\"\n",
    "sales = pd.read_sql(query, engine)\n",
    "sales"
   ]
  },
  {
   "cell_type": "markdown",
   "id": "2265eb09-ae95-4f80-8ffd-9d8bff08025d",
   "metadata": {},
   "source": [
    "# Exploratory Data Analysis\n",
    "\n",
    "## Data Overview"
   ]
  },
  {
   "cell_type": "code",
   "execution_count": 73,
   "id": "aa7c87b5-cc6a-47d2-af78-935e1a7d889d",
   "metadata": {},
   "outputs": [
    {
     "data": {
      "text/plain": [
       "(9800, 18)"
      ]
     },
     "execution_count": 73,
     "metadata": {},
     "output_type": "execute_result"
    }
   ],
   "source": [
    "sales.shape"
   ]
  },
  {
   "cell_type": "markdown",
   "id": "5ff3c048-163d-494f-91e3-88fbc455ff18",
   "metadata": {},
   "source": [
    "### 9800 rows and 18 columns"
   ]
  },
  {
   "cell_type": "code",
   "execution_count": 72,
   "id": "75b0a4c7-92d8-4a14-9ba5-d8d97edf9457",
   "metadata": {},
   "outputs": [
    {
     "data": {
      "text/html": [
       "<div>\n",
       "<style scoped>\n",
       "    .dataframe tbody tr th:only-of-type {\n",
       "        vertical-align: middle;\n",
       "    }\n",
       "\n",
       "    .dataframe tbody tr th {\n",
       "        vertical-align: top;\n",
       "    }\n",
       "\n",
       "    .dataframe thead th {\n",
       "        text-align: right;\n",
       "    }\n",
       "</style>\n",
       "<table border=\"1\" class=\"dataframe\">\n",
       "  <thead>\n",
       "    <tr style=\"text-align: right;\">\n",
       "      <th></th>\n",
       "      <th>row_id</th>\n",
       "      <th>order_date</th>\n",
       "      <th>ship_date</th>\n",
       "      <th>sales</th>\n",
       "    </tr>\n",
       "  </thead>\n",
       "  <tbody>\n",
       "    <tr>\n",
       "      <th>count</th>\n",
       "      <td>9800.000000</td>\n",
       "      <td>9800</td>\n",
       "      <td>9800</td>\n",
       "      <td>9800.000000</td>\n",
       "    </tr>\n",
       "    <tr>\n",
       "      <th>mean</th>\n",
       "      <td>4900.500000</td>\n",
       "      <td>2017-05-01 05:13:51.673469440</td>\n",
       "      <td>2017-05-05 04:17:52.653061120</td>\n",
       "      <td>230.769059</td>\n",
       "    </tr>\n",
       "    <tr>\n",
       "      <th>min</th>\n",
       "      <td>1.000000</td>\n",
       "      <td>2015-01-03 00:00:00</td>\n",
       "      <td>2015-01-07 00:00:00</td>\n",
       "      <td>0.444000</td>\n",
       "    </tr>\n",
       "    <tr>\n",
       "      <th>25%</th>\n",
       "      <td>2450.750000</td>\n",
       "      <td>2016-05-24 00:00:00</td>\n",
       "      <td>2016-05-27 18:00:00</td>\n",
       "      <td>17.248000</td>\n",
       "    </tr>\n",
       "    <tr>\n",
       "      <th>50%</th>\n",
       "      <td>4900.500000</td>\n",
       "      <td>2017-06-26 00:00:00</td>\n",
       "      <td>2017-06-29 00:00:00</td>\n",
       "      <td>54.490000</td>\n",
       "    </tr>\n",
       "    <tr>\n",
       "      <th>75%</th>\n",
       "      <td>7350.250000</td>\n",
       "      <td>2018-05-15 00:00:00</td>\n",
       "      <td>2018-05-19 00:00:00</td>\n",
       "      <td>210.605000</td>\n",
       "    </tr>\n",
       "    <tr>\n",
       "      <th>max</th>\n",
       "      <td>9800.000000</td>\n",
       "      <td>2018-12-30 00:00:00</td>\n",
       "      <td>2019-01-05 00:00:00</td>\n",
       "      <td>22638.480000</td>\n",
       "    </tr>\n",
       "    <tr>\n",
       "      <th>std</th>\n",
       "      <td>2829.160653</td>\n",
       "      <td>NaN</td>\n",
       "      <td>NaN</td>\n",
       "      <td>626.651875</td>\n",
       "    </tr>\n",
       "  </tbody>\n",
       "</table>\n",
       "</div>"
      ],
      "text/plain": [
       "            row_id                     order_date  \\\n",
       "count  9800.000000                           9800   \n",
       "mean   4900.500000  2017-05-01 05:13:51.673469440   \n",
       "min       1.000000            2015-01-03 00:00:00   \n",
       "25%    2450.750000            2016-05-24 00:00:00   \n",
       "50%    4900.500000            2017-06-26 00:00:00   \n",
       "75%    7350.250000            2018-05-15 00:00:00   \n",
       "max    9800.000000            2018-12-30 00:00:00   \n",
       "std    2829.160653                            NaN   \n",
       "\n",
       "                           ship_date         sales  \n",
       "count                           9800   9800.000000  \n",
       "mean   2017-05-05 04:17:52.653061120    230.769059  \n",
       "min              2015-01-07 00:00:00      0.444000  \n",
       "25%              2016-05-27 18:00:00     17.248000  \n",
       "50%              2017-06-29 00:00:00     54.490000  \n",
       "75%              2018-05-19 00:00:00    210.605000  \n",
       "max              2019-01-05 00:00:00  22638.480000  \n",
       "std                              NaN    626.651875  "
      ]
     },
     "execution_count": 72,
     "metadata": {},
     "output_type": "execute_result"
    }
   ],
   "source": [
    "sales.describe()"
   ]
  },
  {
   "cell_type": "code",
   "execution_count": 74,
   "id": "74040ee5-fb1f-45ed-875f-e4d5c47adf95",
   "metadata": {},
   "outputs": [
    {
     "data": {
      "text/plain": [
       "row_id           0\n",
       "order_id         0\n",
       "order_date       0\n",
       "ship_date        0\n",
       "ship_mode        0\n",
       "customer_id      0\n",
       "customer_name    0\n",
       "segment          0\n",
       "country          0\n",
       "city             0\n",
       "state            0\n",
       "postal_code      0\n",
       "region           0\n",
       "product_id       0\n",
       "category         0\n",
       "sub_category     0\n",
       "product_name     0\n",
       "sales            0\n",
       "dtype: int64"
      ]
     },
     "execution_count": 74,
     "metadata": {},
     "output_type": "execute_result"
    }
   ],
   "source": [
    "sales.isnull().sum()"
   ]
  },
  {
   "cell_type": "code",
   "execution_count": 78,
   "id": "8273ab6a-da51-4df8-a140-2f98dd05639d",
   "metadata": {},
   "outputs": [
    {
     "data": {
      "text/plain": [
       "row_id                    int64\n",
       "order_id                 object\n",
       "order_date       datetime64[ns]\n",
       "ship_date        datetime64[ns]\n",
       "ship_mode                object\n",
       "customer_id              object\n",
       "customer_name            object\n",
       "segment                  object\n",
       "country                  object\n",
       "city                     object\n",
       "state                    object\n",
       "postal_code              object\n",
       "region                   object\n",
       "product_id               object\n",
       "category                 object\n",
       "sub_category             object\n",
       "product_name             object\n",
       "sales                   float64\n",
       "dtype: object"
      ]
     },
     "execution_count": 78,
     "metadata": {},
     "output_type": "execute_result"
    }
   ],
   "source": [
    "sales.dtypes"
   ]
  },
  {
   "cell_type": "code",
   "execution_count": 77,
   "id": "dd446339-64d2-4cd6-bbe6-95422f80b806",
   "metadata": {},
   "outputs": [
    {
     "name": "stdout",
     "output_type": "stream",
     "text": [
      "<class 'pandas.core.frame.DataFrame'>\n",
      "RangeIndex: 9800 entries, 0 to 9799\n",
      "Data columns (total 18 columns):\n",
      " #   Column         Non-Null Count  Dtype         \n",
      "---  ------         --------------  -----         \n",
      " 0   row_id         9800 non-null   int64         \n",
      " 1   order_id       9800 non-null   object        \n",
      " 2   order_date     9800 non-null   datetime64[ns]\n",
      " 3   ship_date      9800 non-null   datetime64[ns]\n",
      " 4   ship_mode      9800 non-null   object        \n",
      " 5   customer_id    9800 non-null   object        \n",
      " 6   customer_name  9800 non-null   object        \n",
      " 7   segment        9800 non-null   object        \n",
      " 8   country        9800 non-null   object        \n",
      " 9   city           9800 non-null   object        \n",
      " 10  state          9800 non-null   object        \n",
      " 11  postal_code    9800 non-null   object        \n",
      " 12  region         9800 non-null   object        \n",
      " 13  product_id     9800 non-null   object        \n",
      " 14  category       9800 non-null   object        \n",
      " 15  sub_category   9800 non-null   object        \n",
      " 16  product_name   9800 non-null   object        \n",
      " 17  sales          9800 non-null   float64       \n",
      "dtypes: datetime64[ns](2), float64(1), int64(1), object(14)\n",
      "memory usage: 1.3+ MB\n"
     ]
    }
   ],
   "source": [
    "sales.info()"
   ]
  },
  {
   "cell_type": "markdown",
   "id": "04a253a0-bb28-4798-a05e-0620455c8326",
   "metadata": {},
   "source": [
    "## Univariate Analysis"
   ]
  },
  {
   "cell_type": "code",
   "execution_count": 79,
   "id": "06293d02-c4d1-4692-b28a-c8009eae2090",
   "metadata": {},
   "outputs": [
    {
     "data": {
      "text/plain": [
       "row_id           9800\n",
       "order_id         4922\n",
       "order_date       1230\n",
       "ship_date        1326\n",
       "ship_mode           4\n",
       "customer_id       793\n",
       "customer_name     793\n",
       "segment             3\n",
       "country             1\n",
       "city              529\n",
       "state              49\n",
       "postal_code       627\n",
       "region              4\n",
       "product_id       1861\n",
       "category            3\n",
       "sub_category       17\n",
       "product_name     1849\n",
       "sales            5757\n",
       "dtype: int64"
      ]
     },
     "execution_count": 79,
     "metadata": {},
     "output_type": "execute_result"
    }
   ],
   "source": [
    "#Unique values in each column\n",
    "sales.nunique()"
   ]
  },
  {
   "cell_type": "code",
   "execution_count": 80,
   "id": "efa629c3-c5da-4461-8c3b-31bbdff5509f",
   "metadata": {},
   "outputs": [
    {
     "data": {
      "text/plain": [
       "array(['Second Class', 'Standard Class', 'First Class', 'Same Day'],\n",
       "      dtype=object)"
      ]
     },
     "execution_count": 80,
     "metadata": {},
     "output_type": "execute_result"
    }
   ],
   "source": [
    "sales.ship_mode.unique()"
   ]
  },
  {
   "cell_type": "code",
   "execution_count": 81,
   "id": "e1e27b14-0eee-491c-b74c-8fad170cd78b",
   "metadata": {},
   "outputs": [
    {
     "data": {
      "text/plain": [
       "array(['Consumer', 'Corporate', 'Home Office'], dtype=object)"
      ]
     },
     "execution_count": 81,
     "metadata": {},
     "output_type": "execute_result"
    }
   ],
   "source": [
    "sales.segment.unique()"
   ]
  },
  {
   "cell_type": "code",
   "execution_count": 82,
   "id": "026a0f4c-d992-49ae-a37d-8eefdbb32efd",
   "metadata": {},
   "outputs": [
    {
     "data": {
      "text/plain": [
       "array(['South', 'West', 'Central', 'East'], dtype=object)"
      ]
     },
     "execution_count": 82,
     "metadata": {},
     "output_type": "execute_result"
    }
   ],
   "source": [
    "sales.region.unique()"
   ]
  },
  {
   "cell_type": "code",
   "execution_count": 83,
   "id": "86edcf7c-76d6-4657-950a-a3ba36ab7749",
   "metadata": {},
   "outputs": [
    {
     "data": {
      "text/plain": [
       "array(['Furniture', 'Office Supplies', 'Technology'], dtype=object)"
      ]
     },
     "execution_count": 83,
     "metadata": {},
     "output_type": "execute_result"
    }
   ],
   "source": [
    "sales.category.unique()"
   ]
  },
  {
   "cell_type": "code",
   "execution_count": 85,
   "id": "f7d805f9-7404-43f2-9ac4-399325de5cdc",
   "metadata": {},
   "outputs": [
    {
     "data": {
      "text/plain": [
       "array(['Bookcases', 'Chairs', 'Labels', 'Tables', 'Storage',\n",
       "       'Furnishings', 'Art', 'Phones', 'Binders', 'Appliances', 'Paper',\n",
       "       'Accessories', 'Envelopes', 'Fasteners', 'Supplies', 'Machines',\n",
       "       'Copiers'], dtype=object)"
      ]
     },
     "execution_count": 85,
     "metadata": {},
     "output_type": "execute_result"
    }
   ],
   "source": [
    "sales.sub_category.unique()"
   ]
  },
  {
   "cell_type": "markdown",
   "id": "b9659e17-1e80-4910-be14-5dcdb0c0edc4",
   "metadata": {},
   "source": [
    "## Unique rows per column\n",
    "- country = 1 - United States\n",
    "- states = 49 states of US\n",
    "- ship mode = 4 ['Second Class', 'Standard Class', 'First Class', 'Same Day']\n",
    "- segment = 3 ['Consumer', 'Corporate', 'Home Office']\n",
    "- region = 4 ['South', 'West', 'Central', 'East']\n",
    "- product_id = 1861 = many unique products\n",
    "- categories = 3 ['Furniture', 'Office Supplies', 'Technology']\n",
    "- subcategories = 17 types\n",
    "\n"
   ]
  },
  {
   "cell_type": "code",
   "execution_count": 86,
   "id": "aa4f3a55-2311-41e4-85d8-4a0619926f4d",
   "metadata": {},
   "outputs": [
    {
     "data": {
      "text/plain": [
       "segment\n",
       "Consumer       5101\n",
       "Corporate      2953\n",
       "Home Office    1746\n",
       "Name: count, dtype: int64"
      ]
     },
     "execution_count": 86,
     "metadata": {},
     "output_type": "execute_result"
    }
   ],
   "source": [
    "sales.segment.value_counts()"
   ]
  },
  {
   "cell_type": "markdown",
   "id": "362cc596-24ab-4504-9c8f-2bda81e54b82",
   "metadata": {},
   "source": [
    "#### Consumer segment forms majority of data"
   ]
  },
  {
   "cell_type": "code",
   "execution_count": 87,
   "id": "0a64b188-5794-4c1d-b501-5e4613efd114",
   "metadata": {},
   "outputs": [
    {
     "data": {
      "text/plain": [
       "category\n",
       "Office Supplies    5909\n",
       "Furniture          2078\n",
       "Technology         1813\n",
       "Name: count, dtype: int64"
      ]
     },
     "execution_count": 87,
     "metadata": {},
     "output_type": "execute_result"
    }
   ],
   "source": [
    "sales.category.value_counts()"
   ]
  },
  {
   "cell_type": "markdown",
   "id": "e71c03ef-b960-4844-a1c0-aed0c5f1e905",
   "metadata": {},
   "source": [
    "#### Office suplies are in demand"
   ]
  },
  {
   "cell_type": "code",
   "execution_count": 90,
   "id": "7cb969f2-56da-4c86-a59d-d7079be60de8",
   "metadata": {},
   "outputs": [
    {
     "data": {
      "text/plain": [
       "product_name\n",
       "Staple envelope                               47\n",
       "Staples                                       46\n",
       "Easy-staple paper                             44\n",
       "Avery Non-Stick Binders                       20\n",
       "Staples in misc. colors                       18\n",
       "Staple remover                                18\n",
       "Storex Dura Pro Binders                       17\n",
       "KI Adjustable-Height Table                    17\n",
       "Staple-based wall hangings                    16\n",
       "Situations Contoured Folding Chairs, 4/Set    15\n",
       "Name: count, dtype: int64"
      ]
     },
     "execution_count": 90,
     "metadata": {},
     "output_type": "execute_result"
    }
   ],
   "source": [
    "#Top 10 most frequent products\n",
    "sales.product_name.value_counts().head(10)"
   ]
  },
  {
   "cell_type": "code",
   "execution_count": 91,
   "id": "b22a95e8-53e9-498b-bd13-1a8eb11c0e39",
   "metadata": {},
   "outputs": [
    {
     "data": {
      "text/plain": [
       "sub_category\n",
       "Binders        1492\n",
       "Paper          1338\n",
       "Furnishings     931\n",
       "Phones          876\n",
       "Storage         832\n",
       "Art             785\n",
       "Accessories     756\n",
       "Chairs          607\n",
       "Appliances      459\n",
       "Labels          357\n",
       "Tables          314\n",
       "Envelopes       248\n",
       "Bookcases       226\n",
       "Fasteners       214\n",
       "Supplies        184\n",
       "Machines        115\n",
       "Copiers          66\n",
       "Name: count, dtype: int64"
      ]
     },
     "execution_count": 91,
     "metadata": {},
     "output_type": "execute_result"
    }
   ],
   "source": [
    "sales.sub_category.value_counts()"
   ]
  },
  {
   "cell_type": "markdown",
   "id": "a787a2c3-da62-4a09-9212-1c0235c58bc5",
   "metadata": {},
   "source": [
    "#### Binders, Paper, Furnishings are most frequently ordered whereas Machines and Copiers are least in demand"
   ]
  },
  {
   "cell_type": "code",
   "execution_count": 92,
   "id": "77d8233c-3d92-4ffa-95b9-c2e1fd637c6d",
   "metadata": {},
   "outputs": [
    {
     "data": {
      "text/plain": [
       "state\n",
       "California              1946\n",
       "New York                1097\n",
       "Texas                    973\n",
       "Pennsylvania             582\n",
       "Washington               504\n",
       "Illinois                 483\n",
       "Ohio                     454\n",
       "Florida                  373\n",
       "Michigan                 253\n",
       "North Carolina           247\n",
       "Virginia                 224\n",
       "Arizona                  223\n",
       "Tennessee                183\n",
       "Colorado                 179\n",
       "Georgia                  177\n",
       "Kentucky                 137\n",
       "Indiana                  135\n",
       "Massachusetts            135\n",
       "Oregon                   122\n",
       "New Jersey               122\n",
       "Maryland                 105\n",
       "Wisconsin                105\n",
       "Delaware                  93\n",
       "Minnesota                 89\n",
       "Connecticut               82\n",
       "Missouri                  66\n",
       "Oklahoma                  66\n",
       "Alabama                   61\n",
       "Arkansas                  60\n",
       "Rhode Island              55\n",
       "Utah                      53\n",
       "Mississippi               53\n",
       "South Carolina            42\n",
       "Louisiana                 41\n",
       "Nevada                    39\n",
       "Nebraska                  38\n",
       "New Mexico                37\n",
       "New Hampshire             27\n",
       "Iowa                      26\n",
       "Kansas                    24\n",
       "Idaho                     21\n",
       "Montana                   15\n",
       "South Dakota              12\n",
       "Vermont                   11\n",
       "District of Columbia      10\n",
       "Maine                      8\n",
       "North Dakota               7\n",
       "West Virginia              4\n",
       "Wyoming                    1\n",
       "Name: count, dtype: int64"
      ]
     },
     "execution_count": 92,
     "metadata": {},
     "output_type": "execute_result"
    }
   ],
   "source": [
    "sales.state.value_counts()"
   ]
  },
  {
   "cell_type": "markdown",
   "id": "f7c671ae-918c-4904-828b-b22ff03cb0da",
   "metadata": {},
   "source": [
    "#### California has the highest orders followed by New York and Wyoming has only 1 order."
   ]
  },
  {
   "cell_type": "code",
   "execution_count": 93,
   "id": "5d83e60e-cb99-4208-aa2f-b19a3374877c",
   "metadata": {},
   "outputs": [
    {
     "data": {
      "text/plain": [
       "count     9800.000000\n",
       "mean       230.769059\n",
       "std        626.651875\n",
       "min          0.444000\n",
       "25%         17.248000\n",
       "50%         54.490000\n",
       "75%        210.605000\n",
       "max      22638.480000\n",
       "Name: sales, dtype: float64"
      ]
     },
     "execution_count": 93,
     "metadata": {},
     "output_type": "execute_result"
    }
   ],
   "source": [
    "sales.sales.describe()"
   ]
  },
  {
   "cell_type": "markdown",
   "id": "257d2a01-f67a-4a4b-8a9d-1500602d4e2f",
   "metadata": {},
   "source": [
    "#### Standard deviation indicates high variation in sales. Average sale is 230.77. Max sale is 22638.48 which is very high and definitely a strong outlier"
   ]
  },
  {
   "cell_type": "code",
   "execution_count": 100,
   "id": "46177324-5780-465a-8b2c-d3b5e75c9e24",
   "metadata": {},
   "outputs": [],
   "source": [
    "import matplotlib.pyplot as plt\n",
    "import seaborn as sns\n",
    "import numpy as np"
   ]
  },
  {
   "cell_type": "code",
   "execution_count": 103,
   "id": "dcf81bbd-a470-4dcd-a2a0-42709fccc77c",
   "metadata": {},
   "outputs": [
    {
     "data": {
      "image/png": "[encoded data removed]",
      "text/plain": [
       "<Figure size 640x480 with 1 Axes>"
      ]
     },
     "metadata": {},
     "output_type": "display_data"
    }
   ],
   "source": [
    "#Visualization for sales column\n",
    "sns.histplot(data = sales, x = 'sales', bins = 30)\n",
    "plt.title(\"Sales Distribution\")\n",
    "plt.show()"
   ]
  },
  {
   "cell_type": "markdown",
   "id": "9abc9764-a37f-40e5-b2d4-2db5e6e51bda",
   "metadata": {},
   "source": [
    "#### Very few orders had large sales (around 5000) and most of the sales are of small amount like 500 or 1000"
   ]
  },
  {
   "cell_type": "markdown",
   "id": "e693f865-1bac-4f9e-97d9-622229c16fe9",
   "metadata": {},
   "source": [
    "## Bivariate Analysis"
   ]
  },
  {
   "cell_type": "code",
   "execution_count": 134,
   "id": "336d40b1-e407-4ffa-b54d-0cf19fc1b890",
   "metadata": {},
   "outputs": [
    {
     "data": {
      "text/html": [
       "<div>\n",
       "<style scoped>\n",
       "    .dataframe tbody tr th:only-of-type {\n",
       "        vertical-align: middle;\n",
       "    }\n",
       "\n",
       "    .dataframe tbody tr th {\n",
       "        vertical-align: top;\n",
       "    }\n",
       "\n",
       "    .dataframe thead th {\n",
       "        text-align: right;\n",
       "    }\n",
       "</style>\n",
       "<table border=\"1\" class=\"dataframe\">\n",
       "  <thead>\n",
       "    <tr style=\"text-align: right;\">\n",
       "      <th></th>\n",
       "      <th>segment</th>\n",
       "      <th>total_sales</th>\n",
       "    </tr>\n",
       "  </thead>\n",
       "  <tbody>\n",
       "    <tr>\n",
       "      <th>0</th>\n",
       "      <td>Consumer</td>\n",
       "      <td>1148060.53</td>\n",
       "    </tr>\n",
       "    <tr>\n",
       "      <th>1</th>\n",
       "      <td>Corporate</td>\n",
       "      <td>688494.07</td>\n",
       "    </tr>\n",
       "    <tr>\n",
       "      <th>2</th>\n",
       "      <td>Home Office</td>\n",
       "      <td>424982.18</td>\n",
       "    </tr>\n",
       "  </tbody>\n",
       "</table>\n",
       "</div>"
      ],
      "text/plain": [
       "       segment  total_sales\n",
       "0     Consumer   1148060.53\n",
       "1    Corporate    688494.07\n",
       "2  Home Office    424982.18"
      ]
     },
     "metadata": {},
     "output_type": "display_data"
    }
   ],
   "source": [
    "#Which segment has the highest sales?\n",
    "query = \"\"\"\n",
    "SELECT segment,\n",
    "       ROUND(SUM(sales), 2) AS total_sales\n",
    "FROM CLEAN_SALES_DATA\n",
    "GROUP BY SEGMENT\n",
    "ORDER BY total_sales DESC;\n",
    "\"\"\"\n",
    "\n",
    "segment = pd.read_sql(query, engine)\n",
    "display(segment)\n"
   ]
  },
  {
   "cell_type": "code",
   "execution_count": 147,
   "id": "66122396-607d-4704-af27-86dcda9b96af",
   "metadata": {},
   "outputs": [
    {
     "data": {
      "text/html": [
       "<div>\n",
       "<style scoped>\n",
       "    .dataframe tbody tr th:only-of-type {\n",
       "        vertical-align: middle;\n",
       "    }\n",
       "\n",
       "    .dataframe tbody tr th {\n",
       "        vertical-align: top;\n",
       "    }\n",
       "\n",
       "    .dataframe thead th {\n",
       "        text-align: right;\n",
       "    }\n",
       "</style>\n",
       "<table border=\"1\" class=\"dataframe\">\n",
       "  <thead>\n",
       "    <tr style=\"text-align: right;\">\n",
       "      <th></th>\n",
       "      <th>CATEGORY</th>\n",
       "      <th>TOTAL_SALES</th>\n",
       "    </tr>\n",
       "  </thead>\n",
       "  <tbody>\n",
       "    <tr>\n",
       "      <th>0</th>\n",
       "      <td>Technology</td>\n",
       "      <td>827455.87</td>\n",
       "    </tr>\n",
       "    <tr>\n",
       "      <th>1</th>\n",
       "      <td>Furniture</td>\n",
       "      <td>728658.58</td>\n",
       "    </tr>\n",
       "    <tr>\n",
       "      <th>2</th>\n",
       "      <td>Office Supplies</td>\n",
       "      <td>705422.33</td>\n",
       "    </tr>\n",
       "  </tbody>\n",
       "</table>\n",
       "</div>"
      ],
      "text/plain": [
       "          CATEGORY  TOTAL_SALES\n",
       "0       Technology    827455.87\n",
       "1        Furniture    728658.58\n",
       "2  Office Supplies    705422.33"
      ]
     },
     "metadata": {},
     "output_type": "display_data"
    }
   ],
   "source": [
    "#Which category has the highest sales?\n",
    "query = \"\"\"\n",
    "SELECT CATEGORY, ROUND(SUM(SALES), 2) AS TOTAL_SALES\n",
    "FROM CLEAN_SALES_DATA\n",
    "GROUP BY CATEGORY\n",
    "ORDER BY TOTAL_SALES DESC;\n",
    "\"\"\"\n",
    "\n",
    "category = pd.read_sql(query, engine)\n",
    "display(category)"
   ]
  },
  {
   "cell_type": "code",
   "execution_count": 122,
   "id": "0d10a61a-ea4a-4e05-8d9f-3348e9185088",
   "metadata": {},
   "outputs": [
    {
     "data": {
      "text/html": [
       "<div>\n",
       "<style scoped>\n",
       "    .dataframe tbody tr th:only-of-type {\n",
       "        vertical-align: middle;\n",
       "    }\n",
       "\n",
       "    .dataframe tbody tr th {\n",
       "        vertical-align: top;\n",
       "    }\n",
       "\n",
       "    .dataframe thead th {\n",
       "        text-align: right;\n",
       "    }\n",
       "</style>\n",
       "<table border=\"1\" class=\"dataframe\">\n",
       "  <thead>\n",
       "    <tr style=\"text-align: right;\">\n",
       "      <th></th>\n",
       "      <th>SUB_CATEGORY</th>\n",
       "      <th>TOTAL_SALES</th>\n",
       "    </tr>\n",
       "  </thead>\n",
       "  <tbody>\n",
       "    <tr>\n",
       "      <th>0</th>\n",
       "      <td>Phones</td>\n",
       "      <td>327782.45</td>\n",
       "    </tr>\n",
       "    <tr>\n",
       "      <th>1</th>\n",
       "      <td>Chairs</td>\n",
       "      <td>322822.73</td>\n",
       "    </tr>\n",
       "    <tr>\n",
       "      <th>2</th>\n",
       "      <td>Storage</td>\n",
       "      <td>219343.39</td>\n",
       "    </tr>\n",
       "    <tr>\n",
       "      <th>3</th>\n",
       "      <td>Tables</td>\n",
       "      <td>202810.63</td>\n",
       "    </tr>\n",
       "    <tr>\n",
       "      <th>4</th>\n",
       "      <td>Binders</td>\n",
       "      <td>200028.79</td>\n",
       "    </tr>\n",
       "    <tr>\n",
       "      <th>5</th>\n",
       "      <td>Machines</td>\n",
       "      <td>189238.63</td>\n",
       "    </tr>\n",
       "    <tr>\n",
       "      <th>6</th>\n",
       "      <td>Accessories</td>\n",
       "      <td>164186.70</td>\n",
       "    </tr>\n",
       "    <tr>\n",
       "      <th>7</th>\n",
       "      <td>Copiers</td>\n",
       "      <td>146248.09</td>\n",
       "    </tr>\n",
       "    <tr>\n",
       "      <th>8</th>\n",
       "      <td>Bookcases</td>\n",
       "      <td>113813.20</td>\n",
       "    </tr>\n",
       "    <tr>\n",
       "      <th>9</th>\n",
       "      <td>Appliances</td>\n",
       "      <td>104618.40</td>\n",
       "    </tr>\n",
       "    <tr>\n",
       "      <th>10</th>\n",
       "      <td>Furnishings</td>\n",
       "      <td>89212.02</td>\n",
       "    </tr>\n",
       "    <tr>\n",
       "      <th>11</th>\n",
       "      <td>Paper</td>\n",
       "      <td>76828.30</td>\n",
       "    </tr>\n",
       "    <tr>\n",
       "      <th>12</th>\n",
       "      <td>Supplies</td>\n",
       "      <td>46420.31</td>\n",
       "    </tr>\n",
       "    <tr>\n",
       "      <th>13</th>\n",
       "      <td>Art</td>\n",
       "      <td>26705.41</td>\n",
       "    </tr>\n",
       "    <tr>\n",
       "      <th>14</th>\n",
       "      <td>Envelopes</td>\n",
       "      <td>16128.05</td>\n",
       "    </tr>\n",
       "    <tr>\n",
       "      <th>15</th>\n",
       "      <td>Labels</td>\n",
       "      <td>12347.73</td>\n",
       "    </tr>\n",
       "    <tr>\n",
       "      <th>16</th>\n",
       "      <td>Fasteners</td>\n",
       "      <td>3001.96</td>\n",
       "    </tr>\n",
       "  </tbody>\n",
       "</table>\n",
       "</div>"
      ],
      "text/plain": [
       "   SUB_CATEGORY  TOTAL_SALES\n",
       "0        Phones    327782.45\n",
       "1        Chairs    322822.73\n",
       "2       Storage    219343.39\n",
       "3        Tables    202810.63\n",
       "4       Binders    200028.79\n",
       "5      Machines    189238.63\n",
       "6   Accessories    164186.70\n",
       "7       Copiers    146248.09\n",
       "8     Bookcases    113813.20\n",
       "9    Appliances    104618.40\n",
       "10  Furnishings     89212.02\n",
       "11        Paper     76828.30\n",
       "12     Supplies     46420.31\n",
       "13          Art     26705.41\n",
       "14    Envelopes     16128.05\n",
       "15       Labels     12347.73\n",
       "16    Fasteners      3001.96"
      ]
     },
     "metadata": {},
     "output_type": "display_data"
    }
   ],
   "source": [
    "#Which sub_category has the highest sales?\n",
    "query = \"\"\"\n",
    "SELECT SUB_CATEGORY, ROUND(SUM(SALES), 2) AS TOTAL_SALES\n",
    "FROM CLEAN_SALES_DATA\n",
    "GROUP BY SUB_CATEGORY\n",
    "ORDER BY TOTAL_SALES DESC;\n",
    "\"\"\"\n",
    "\n",
    "sub_category = pd.read_sql(query,engine)\n",
    "display(sub_category)"
   ]
  },
  {
   "cell_type": "code",
   "execution_count": 123,
   "id": "067043b3-9ed5-4941-8c37-90896b6b5024",
   "metadata": {},
   "outputs": [
    {
     "data": {
      "text/html": [
       "<div>\n",
       "<style scoped>\n",
       "    .dataframe tbody tr th:only-of-type {\n",
       "        vertical-align: middle;\n",
       "    }\n",
       "\n",
       "    .dataframe tbody tr th {\n",
       "        vertical-align: top;\n",
       "    }\n",
       "\n",
       "    .dataframe thead th {\n",
       "        text-align: right;\n",
       "    }\n",
       "</style>\n",
       "<table border=\"1\" class=\"dataframe\">\n",
       "  <thead>\n",
       "    <tr style=\"text-align: right;\">\n",
       "      <th></th>\n",
       "      <th>REGION</th>\n",
       "      <th>TOTAL_SALES</th>\n",
       "    </tr>\n",
       "  </thead>\n",
       "  <tbody>\n",
       "    <tr>\n",
       "      <th>0</th>\n",
       "      <td>West</td>\n",
       "      <td>710219.68</td>\n",
       "    </tr>\n",
       "    <tr>\n",
       "      <th>1</th>\n",
       "      <td>East</td>\n",
       "      <td>669518.73</td>\n",
       "    </tr>\n",
       "    <tr>\n",
       "      <th>2</th>\n",
       "      <td>Central</td>\n",
       "      <td>492646.91</td>\n",
       "    </tr>\n",
       "    <tr>\n",
       "      <th>3</th>\n",
       "      <td>South</td>\n",
       "      <td>389151.46</td>\n",
       "    </tr>\n",
       "  </tbody>\n",
       "</table>\n",
       "</div>"
      ],
      "text/plain": [
       "    REGION  TOTAL_SALES\n",
       "0     West    710219.68\n",
       "1     East    669518.73\n",
       "2  Central    492646.91\n",
       "3    South    389151.46"
      ]
     },
     "metadata": {},
     "output_type": "display_data"
    }
   ],
   "source": [
    "#Which region makes the highest sales?\n",
    "query = \"\"\"\n",
    "SELECT REGION, ROUND(SUM(SALES), 2) AS TOTAL_SALES\n",
    "FROM CLEAN_SALES_DATA\n",
    "GROUP BY REGION\n",
    "ORDER BY TOTAL_SALES DESC;\n",
    "\"\"\"\n",
    "\n",
    "region = pd.read_sql(query, engine)\n",
    "display(region)"
   ]
  },
  {
   "cell_type": "code",
   "execution_count": 124,
   "id": "5033c746-4ffd-414e-904c-78a7c07c3404",
   "metadata": {},
   "outputs": [
    {
     "data": {
      "text/html": [
       "<div>\n",
       "<style scoped>\n",
       "    .dataframe tbody tr th:only-of-type {\n",
       "        vertical-align: middle;\n",
       "    }\n",
       "\n",
       "    .dataframe tbody tr th {\n",
       "        vertical-align: top;\n",
       "    }\n",
       "\n",
       "    .dataframe thead th {\n",
       "        text-align: right;\n",
       "    }\n",
       "</style>\n",
       "<table border=\"1\" class=\"dataframe\">\n",
       "  <thead>\n",
       "    <tr style=\"text-align: right;\">\n",
       "      <th></th>\n",
       "      <th>SHIP_MODE</th>\n",
       "      <th>TOTAL_SALES</th>\n",
       "    </tr>\n",
       "  </thead>\n",
       "  <tbody>\n",
       "    <tr>\n",
       "      <th>0</th>\n",
       "      <td>Standard Class</td>\n",
       "      <td>1340831.31</td>\n",
       "    </tr>\n",
       "    <tr>\n",
       "      <th>1</th>\n",
       "      <td>Second Class</td>\n",
       "      <td>449914.18</td>\n",
       "    </tr>\n",
       "    <tr>\n",
       "      <th>2</th>\n",
       "      <td>First Class</td>\n",
       "      <td>345572.26</td>\n",
       "    </tr>\n",
       "    <tr>\n",
       "      <th>3</th>\n",
       "      <td>Same Day</td>\n",
       "      <td>125219.04</td>\n",
       "    </tr>\n",
       "  </tbody>\n",
       "</table>\n",
       "</div>"
      ],
      "text/plain": [
       "        SHIP_MODE  TOTAL_SALES\n",
       "0  Standard Class   1340831.31\n",
       "1    Second Class    449914.18\n",
       "2     First Class    345572.26\n",
       "3        Same Day    125219.04"
      ]
     },
     "metadata": {},
     "output_type": "display_data"
    }
   ],
   "source": [
    "#Which ship mode is most preffered?\n",
    "query = \"\"\"\n",
    "SELECT SHIP_MODE, ROUND(SUM(SALES), 2) AS TOTAL_SALES\n",
    "FROM CLEAN_SALES_DATA\n",
    "GROUP BY SHIP_MODE\n",
    "ORDER BY TOTAL_SALES DESC;\n",
    "\"\"\"\n",
    "\n",
    "ship = pd.read_sql(query, engine)\n",
    "display(ship)"
   ]
  },
  {
   "cell_type": "code",
   "execution_count": 126,
   "id": "52143207-2ff5-4e40-8007-498bd7541c59",
   "metadata": {},
   "outputs": [
    {
     "data": {
      "text/html": [
       "<div>\n",
       "<style scoped>\n",
       "    .dataframe tbody tr th:only-of-type {\n",
       "        vertical-align: middle;\n",
       "    }\n",
       "\n",
       "    .dataframe tbody tr th {\n",
       "        vertical-align: top;\n",
       "    }\n",
       "\n",
       "    .dataframe thead th {\n",
       "        text-align: right;\n",
       "    }\n",
       "</style>\n",
       "<table border=\"1\" class=\"dataframe\">\n",
       "  <thead>\n",
       "    <tr style=\"text-align: right;\">\n",
       "      <th></th>\n",
       "      <th>STATE</th>\n",
       "      <th>TOTAL_SALES</th>\n",
       "    </tr>\n",
       "  </thead>\n",
       "  <tbody>\n",
       "    <tr>\n",
       "      <th>0</th>\n",
       "      <td>California</td>\n",
       "      <td>446306.46</td>\n",
       "    </tr>\n",
       "    <tr>\n",
       "      <th>1</th>\n",
       "      <td>New York</td>\n",
       "      <td>306361.15</td>\n",
       "    </tr>\n",
       "    <tr>\n",
       "      <th>2</th>\n",
       "      <td>Texas</td>\n",
       "      <td>168572.53</td>\n",
       "    </tr>\n",
       "    <tr>\n",
       "      <th>3</th>\n",
       "      <td>Washington</td>\n",
       "      <td>135206.85</td>\n",
       "    </tr>\n",
       "    <tr>\n",
       "      <th>4</th>\n",
       "      <td>Pennsylvania</td>\n",
       "      <td>116276.65</td>\n",
       "    </tr>\n",
       "    <tr>\n",
       "      <th>5</th>\n",
       "      <td>Florida</td>\n",
       "      <td>88436.53</td>\n",
       "    </tr>\n",
       "    <tr>\n",
       "      <th>6</th>\n",
       "      <td>Illinois</td>\n",
       "      <td>79236.52</td>\n",
       "    </tr>\n",
       "    <tr>\n",
       "      <th>7</th>\n",
       "      <td>Michigan</td>\n",
       "      <td>76136.07</td>\n",
       "    </tr>\n",
       "    <tr>\n",
       "      <th>8</th>\n",
       "      <td>Ohio</td>\n",
       "      <td>75130.35</td>\n",
       "    </tr>\n",
       "    <tr>\n",
       "      <th>9</th>\n",
       "      <td>Virginia</td>\n",
       "      <td>70636.72</td>\n",
       "    </tr>\n",
       "  </tbody>\n",
       "</table>\n",
       "</div>"
      ],
      "text/plain": [
       "          STATE  TOTAL_SALES\n",
       "0    California    446306.46\n",
       "1      New York    306361.15\n",
       "2         Texas    168572.53\n",
       "3    Washington    135206.85\n",
       "4  Pennsylvania    116276.65\n",
       "5       Florida     88436.53\n",
       "6      Illinois     79236.52\n",
       "7      Michigan     76136.07\n",
       "8          Ohio     75130.35\n",
       "9      Virginia     70636.72"
      ]
     },
     "metadata": {},
     "output_type": "display_data"
    }
   ],
   "source": [
    "#Which top 10 states makes the highest sales?\n",
    "query = \"\"\"\n",
    "SELECT STATE, ROUND(SUM(SALES), 2) AS TOTAL_SALES\n",
    "FROM CLEAN_SALES_DATA\n",
    "GROUP BY STATE\n",
    "ORDER BY TOTAL_SALES DESC\n",
    "LIMIT 10;\n",
    "\"\"\"\n",
    "\n",
    "state = pd.read_sql(query, engine)\n",
    "display(state)"
   ]
  },
  {
   "cell_type": "markdown",
   "id": "cff9de20-1db3-461b-aa7e-0da6e61a01bc",
   "metadata": {},
   "source": [
    "### Bivariate analysis summary\n",
    "- Most revenue comes from Consumers(1.14M)\n",
    "- Technology(827K) is the top-selling category\n",
    "- Phones(328K) are the top-selling sub_category\n",
    "- West region(710K) drives the most sales\n",
    "- Most orders are shipped via standard class(1.3M)\n",
    "- Large population states have more sales - California(446K), New York(306K), Texas(169K)"
   ]
  },
  {
   "cell_type": "markdown",
   "id": "b4d3e524-ef1d-45fd-9f27-eed535f00380",
   "metadata": {},
   "source": [
    "## Plot Visualizations for all Bivariate Analysis"
   ]
  },
  {
   "cell_type": "code",
   "execution_count": 175,
   "id": "569f576a-a39f-4feb-96b8-4201fb92e803",
   "metadata": {},
   "outputs": [
    {
     "data": {
      "image/png": "[encoded data removed]",
      "text/plain": [
       "<Figure size 500x500 with 1 Axes>"
      ]
     },
     "metadata": {},
     "output_type": "display_data"
    }
   ],
   "source": [
    "plt.figure(figsize=(5, 5))\n",
    "sns.barplot(x='segment', y='total_sales', data=segment, hue='segment', palette='Blues_d', legend=False)\n",
    "plt.title('Total Sales by Segment')\n",
    "plt.xlabel('Segment')\n",
    "plt.ylabel('Total Sales (USD)')\n",
    "plt.xticks(rotation = 30)\n",
    "plt.tight_layout()\n",
    "plt.show()\n"
   ]
  },
  {
   "cell_type": "code",
   "execution_count": 174,
   "id": "13348e10-b37a-4d5d-95c4-07fc858a723a",
   "metadata": {},
   "outputs": [
    {
     "data": {
      "image/png": "[encoded data removed]",
      "text/plain": [
       "<Figure size 600x400 with 1 Axes>"
      ]
     },
     "metadata": {},
     "output_type": "display_data"
    }
   ],
   "source": [
    "plt.figure(figsize=(6, 4))\n",
    "sns.barplot(x='CATEGORY', y='TOTAL_SALES', data= category, hue='CATEGORY', palette='Blues_d', legend=False)\n",
    "plt.title('Total Sales by Category')\n",
    "plt.xlabel('Category')\n",
    "plt.ylabel('Total Sales (USD)')\n",
    "plt.xticks(rotation=30)\n",
    "plt.tight_layout()\n",
    "plt.show()"
   ]
  },
  {
   "cell_type": "code",
   "execution_count": 160,
   "id": "f8060696-7ead-41ad-b046-90644d15ad28",
   "metadata": {},
   "outputs": [
    {
     "data": {
      "image/png": "[encoded data removed]",
      "text/plain": [
       "<Figure size 800x500 with 1 Axes>"
      ]
     },
     "metadata": {},
     "output_type": "display_data"
    }
   ],
   "source": [
    "plt.figure(figsize=(8, 5))\n",
    "sns.barplot(x='SUB_CATEGORY', y='TOTAL_SALES', data= sub_category, hue='SUB_CATEGORY', palette='Blues_d', legend=False)\n",
    "plt.title('Total Sales by Sub_Category')\n",
    "plt.xlabel('Sub_Category')\n",
    "plt.ylabel('Total Sales (USD)')\n",
    "plt.xticks(rotation=30)\n",
    "plt.tight_layout()\n",
    "plt.show()"
   ]
  },
  {
   "cell_type": "code",
   "execution_count": 169,
   "id": "dcc61848-da45-4f68-aaea-9b33f59856a2",
   "metadata": {},
   "outputs": [
    {
     "data": {
      "image/png": "[encoded data removed]",
      "text/plain": [
       "<Figure size 500x400 with 1 Axes>"
      ]
     },
     "metadata": {},
     "output_type": "display_data"
    }
   ],
   "source": [
    "plt.figure(figsize=(5, 4))\n",
    "sns.barplot(x='REGION', y='TOTAL_SALES', data= region, hue='REGION', palette='Blues_d', legend=False)\n",
    "plt.title('Total Sales by Region')\n",
    "plt.xlabel('Region')\n",
    "plt.ylabel('Total Sales (USD)')\n",
    "plt.xticks(rotation=30)\n",
    "plt.tight_layout()\n",
    "plt.show()"
   ]
  },
  {
   "cell_type": "code",
   "execution_count": 170,
   "id": "c8bed587-9032-400e-8fa2-c2b82772ed1d",
   "metadata": {},
   "outputs": [
    {
     "data": {
      "image/png": "[encoded data removed]",
      "text/plain": [
       "<Figure size 500x400 with 1 Axes>"
      ]
     },
     "metadata": {},
     "output_type": "display_data"
    }
   ],
   "source": [
    "plt.figure(figsize=(5, 4))\n",
    "sns.barplot(x='SHIP_MODE', y='TOTAL_SALES', data= ship, hue='SHIP_MODE', palette='Blues_d', legend=False)\n",
    "plt.title('Total Sales by Ship Mode')\n",
    "plt.xlabel('Ship Mode')\n",
    "plt.ylabel('Total Sales (USD)')\n",
    "plt.xticks(rotation=30)\n",
    "plt.tight_layout()\n",
    "plt.show()"
   ]
  },
  {
   "cell_type": "code",
   "execution_count": 173,
   "id": "264fde41-6c10-4cf8-a30c-a1f5cf63c3e1",
   "metadata": {},
   "outputs": [
    {
     "data": {
      "image/png": "[encoded data removed]",
      "text/plain": [
       "<Figure size 800x500 with 1 Axes>"
      ]
     },
     "metadata": {},
     "output_type": "display_data"
    }
   ],
   "source": [
    "plt.figure(figsize=(8, 5))\n",
    "sns.barplot(x='STATE', y='TOTAL_SALES', data= state, hue='STATE', palette='Blues_d', legend=False)\n",
    "plt.title('Total Sales by Top 10 States')\n",
    "plt.xlabel('State')\n",
    "plt.ylabel('Total Sales (USD)')\n",
    "plt.xticks(rotation=30)\n",
    "plt.tight_layout()\n",
    "plt.show()"
   ]
  },
  {
   "cell_type": "markdown",
   "id": "e5780ba9-e3f5-484b-a823-d2940686d499",
   "metadata": {},
   "source": [
    "# Time-Based Sales Trends"
   ]
  },
  {
   "cell_type": "code",
   "execution_count": 183,
   "id": "3cf9bc8e-84b5-49d5-bfb7-5a35125ea0e0",
   "metadata": {},
   "outputs": [
    {
     "data": {
      "text/html": [
       "<div>\n",
       "<style scoped>\n",
       "    .dataframe tbody tr th:only-of-type {\n",
       "        vertical-align: middle;\n",
       "    }\n",
       "\n",
       "    .dataframe tbody tr th {\n",
       "        vertical-align: top;\n",
       "    }\n",
       "\n",
       "    .dataframe thead th {\n",
       "        text-align: right;\n",
       "    }\n",
       "</style>\n",
       "<table border=\"1\" class=\"dataframe\">\n",
       "  <thead>\n",
       "    <tr style=\"text-align: right;\">\n",
       "      <th></th>\n",
       "      <th>Year</th>\n",
       "      <th>Month</th>\n",
       "      <th>Month_Name</th>\n",
       "      <th>Quarter</th>\n",
       "      <th>Day</th>\n",
       "      <th>Weekday</th>\n",
       "    </tr>\n",
       "  </thead>\n",
       "  <tbody>\n",
       "    <tr>\n",
       "      <th>0</th>\n",
       "      <td>2017</td>\n",
       "      <td>11</td>\n",
       "      <td>November</td>\n",
       "      <td>4</td>\n",
       "      <td>8</td>\n",
       "      <td>Wednesday</td>\n",
       "    </tr>\n",
       "    <tr>\n",
       "      <th>1</th>\n",
       "      <td>2017</td>\n",
       "      <td>11</td>\n",
       "      <td>November</td>\n",
       "      <td>4</td>\n",
       "      <td>8</td>\n",
       "      <td>Wednesday</td>\n",
       "    </tr>\n",
       "    <tr>\n",
       "      <th>2</th>\n",
       "      <td>2017</td>\n",
       "      <td>6</td>\n",
       "      <td>June</td>\n",
       "      <td>2</td>\n",
       "      <td>12</td>\n",
       "      <td>Monday</td>\n",
       "    </tr>\n",
       "    <tr>\n",
       "      <th>3</th>\n",
       "      <td>2016</td>\n",
       "      <td>10</td>\n",
       "      <td>October</td>\n",
       "      <td>4</td>\n",
       "      <td>11</td>\n",
       "      <td>Tuesday</td>\n",
       "    </tr>\n",
       "    <tr>\n",
       "      <th>4</th>\n",
       "      <td>2016</td>\n",
       "      <td>10</td>\n",
       "      <td>October</td>\n",
       "      <td>4</td>\n",
       "      <td>11</td>\n",
       "      <td>Tuesday</td>\n",
       "    </tr>\n",
       "    <tr>\n",
       "      <th>...</th>\n",
       "      <td>...</td>\n",
       "      <td>...</td>\n",
       "      <td>...</td>\n",
       "      <td>...</td>\n",
       "      <td>...</td>\n",
       "      <td>...</td>\n",
       "    </tr>\n",
       "    <tr>\n",
       "      <th>9795</th>\n",
       "      <td>2017</td>\n",
       "      <td>5</td>\n",
       "      <td>May</td>\n",
       "      <td>2</td>\n",
       "      <td>21</td>\n",
       "      <td>Sunday</td>\n",
       "    </tr>\n",
       "    <tr>\n",
       "      <th>9796</th>\n",
       "      <td>2016</td>\n",
       "      <td>1</td>\n",
       "      <td>January</td>\n",
       "      <td>1</td>\n",
       "      <td>12</td>\n",
       "      <td>Tuesday</td>\n",
       "    </tr>\n",
       "    <tr>\n",
       "      <th>9797</th>\n",
       "      <td>2016</td>\n",
       "      <td>1</td>\n",
       "      <td>January</td>\n",
       "      <td>1</td>\n",
       "      <td>12</td>\n",
       "      <td>Tuesday</td>\n",
       "    </tr>\n",
       "    <tr>\n",
       "      <th>9798</th>\n",
       "      <td>2016</td>\n",
       "      <td>1</td>\n",
       "      <td>January</td>\n",
       "      <td>1</td>\n",
       "      <td>12</td>\n",
       "      <td>Tuesday</td>\n",
       "    </tr>\n",
       "    <tr>\n",
       "      <th>9799</th>\n",
       "      <td>2016</td>\n",
       "      <td>1</td>\n",
       "      <td>January</td>\n",
       "      <td>1</td>\n",
       "      <td>12</td>\n",
       "      <td>Tuesday</td>\n",
       "    </tr>\n",
       "  </tbody>\n",
       "</table>\n",
       "<p>9800 rows × 6 columns</p>\n",
       "</div>"
      ],
      "text/plain": [
       "      Year  Month Month_Name  Quarter  Day    Weekday\n",
       "0     2017     11   November        4    8  Wednesday\n",
       "1     2017     11   November        4    8  Wednesday\n",
       "2     2017      6       June        2   12     Monday\n",
       "3     2016     10    October        4   11    Tuesday\n",
       "4     2016     10    October        4   11    Tuesday\n",
       "...    ...    ...        ...      ...  ...        ...\n",
       "9795  2017      5        May        2   21     Sunday\n",
       "9796  2016      1    January        1   12    Tuesday\n",
       "9797  2016      1    January        1   12    Tuesday\n",
       "9798  2016      1    January        1   12    Tuesday\n",
       "9799  2016      1    January        1   12    Tuesday\n",
       "\n",
       "[9800 rows x 6 columns]"
      ]
     },
     "metadata": {},
     "output_type": "display_data"
    }
   ],
   "source": [
    "#Feature Engineering\n",
    "#Extracting day, year, month, quarter, weekdays\n",
    "query = \"\"\"\n",
    "SELECT \n",
    "  YEAR(order_date) AS Year,\n",
    "  MONTH(order_date) AS Month,\n",
    "  DATE_FORMAT(order_date, '%M') AS Month_Name,\n",
    "  QUARTER(order_date) AS Quarter,\n",
    "  DAY(order_date) AS Day,\n",
    "  DATE_FORMAT(order_date, '%W') AS Weekday\n",
    "FROM clean_sales_data;\n",
    "\"\"\"\n",
    "\n",
    "date = pd.read_sql(query, engine)\n",
    "display(date)"
   ]
  },
  {
   "cell_type": "code",
   "execution_count": 184,
   "id": "ec5171ff-f27f-40cf-9dab-e0fc1914105e",
   "metadata": {},
   "outputs": [
    {
     "data": {
      "image/png": "[encoded data removed]",
      "text/plain": [
       "<Figure size 640x480 with 1 Axes>"
      ]
     },
     "metadata": {},
     "output_type": "display_data"
    }
   ],
   "source": [
    "query = \"\"\"\n",
    "SELECT YEAR(order_date) AS Year, SUM(sales) AS Total_Sales\n",
    "FROM clean_sales_data\n",
    "GROUP BY Year\n",
    "ORDER BY Year;\n",
    "\"\"\"\n",
    "\n",
    "sales_yearly = pd.read_sql(query, engine)\n",
    "sns.barplot(x='Year', y='Total_Sales', data=sales_yearly)\n",
    "plt.title(\"Total Sales by Year\")\n",
    "plt.ylabel(\"Sales (USD)\")\n",
    "plt.tight_layout()\n",
    "plt.show()\n"
   ]
  },
  {
   "cell_type": "code",
   "execution_count": 185,
   "id": "c83825cf-79e5-4490-aa44-678fac3aba7e",
   "metadata": {},
   "outputs": [
    {
     "data": {
      "image/png": "[encoded data removed]",
      "text/plain": [
       "<Figure size 640x480 with 1 Axes>"
      ]
     },
     "metadata": {},
     "output_type": "display_data"
    }
   ],
   "source": [
    "query = \"\"\"\n",
    "SELECT MONTH(order_date) AS Month, DATE_FORMAT(order_date, '%M') AS Month_Name, \n",
    "       SUM(sales) AS Total_Sales\n",
    "FROM clean_sales_data\n",
    "GROUP BY Month, Month_Name\n",
    "ORDER BY Month;\n",
    "\"\"\"\n",
    "\n",
    "df_monthly = pd.read_sql(query, engine)\n",
    "sns.barplot(x='Month_Name', y='Total_Sales', data=df_monthly)\n",
    "plt.title(\"Total Sales by Month\")\n",
    "plt.xticks(rotation=45)\n",
    "plt.ylabel(\"Sales (USD)\")\n",
    "plt.tight_layout()\n",
    "plt.show()\n"
   ]
  },
  {
   "cell_type": "code",
   "execution_count": 186,
   "id": "052ca3c0-59a1-4815-a52b-dbe4d3be1bbb",
   "metadata": {},
   "outputs": [
    {
     "data": {
      "image/png": "[encoded data removed]",
      "text/plain": [
       "<Figure size 640x480 with 1 Axes>"
      ]
     },
     "metadata": {},
     "output_type": "display_data"
    }
   ],
   "source": [
    "query = \"\"\"\n",
    "SELECT QUARTER(order_date) AS Quarter, SUM(sales) AS Total_Sales\n",
    "FROM clean_sales_data\n",
    "GROUP BY Quarter\n",
    "ORDER BY Quarter;\n",
    "\"\"\"\n",
    "\n",
    "df_quarterly = pd.read_sql(query, engine)\n",
    "sns.barplot(x='Quarter', y='Total_Sales', data=df_quarterly)\n",
    "plt.title(\"Total Sales by Quarter\")\n",
    "plt.ylabel(\"Sales (USD)\")\n",
    "plt.tight_layout()\n",
    "plt.show()\n"
   ]
  },
  {
   "cell_type": "code",
   "execution_count": 192,
   "id": "43972851-2a27-4051-b275-9f78c57a1699",
   "metadata": {},
   "outputs": [
    {
     "data": {
      "image/png": "[encoded data removed]",
      "text/plain": [
       "<Figure size 640x480 with 1 Axes>"
      ]
     },
     "metadata": {},
     "output_type": "display_data"
    }
   ],
   "source": [
    "query = \"\"\"\n",
    "SELECT DATE_FORMAT(order_date, '%W') AS Weekday, SUM(sales) AS Total_Sales\n",
    "FROM clean_sales_data\n",
    "GROUP BY Weekday\n",
    "ORDER BY FIELD(Weekday, 'Monday', 'Tuesday', 'Wednesday', 'Thursday', 'Friday', 'Saturday', 'Sunday');\n",
    "\"\"\"\n",
    "\n",
    "df_weekdays = pd.read_sql(query, engine)\n",
    "sns.barplot(x='Weekday', y='Total_Sales', data=df_weekdays)\n",
    "plt.title(\"Total Sales by Weekdays\")\n",
    "plt.ylabel(\"Sales (USD)\")\n",
    "plt.tight_layout()\n",
    "plt.show()\n"
   ]
  },
  {
   "cell_type": "code",
   "execution_count": 193,
   "id": "5a3a7435-9a48-4daf-97dc-ce79423f441b",
   "metadata": {},
   "outputs": [
    {
     "data": {
      "text/html": [
       "<div>\n",
       "<style scoped>\n",
       "    .dataframe tbody tr th:only-of-type {\n",
       "        vertical-align: middle;\n",
       "    }\n",
       "\n",
       "    .dataframe tbody tr th {\n",
       "        vertical-align: top;\n",
       "    }\n",
       "\n",
       "    .dataframe thead th {\n",
       "        text-align: right;\n",
       "    }\n",
       "</style>\n",
       "<table border=\"1\" class=\"dataframe\">\n",
       "  <thead>\n",
       "    <tr style=\"text-align: right;\">\n",
       "      <th></th>\n",
       "      <th>order_day</th>\n",
       "      <th>order_count</th>\n",
       "      <th>total_sales</th>\n",
       "    </tr>\n",
       "  </thead>\n",
       "  <tbody>\n",
       "    <tr>\n",
       "      <th>0</th>\n",
       "      <td>1</td>\n",
       "      <td>329</td>\n",
       "      <td>90957.9824</td>\n",
       "    </tr>\n",
       "    <tr>\n",
       "      <th>1</th>\n",
       "      <td>2</td>\n",
       "      <td>370</td>\n",
       "      <td>103951.1600</td>\n",
       "    </tr>\n",
       "    <tr>\n",
       "      <th>2</th>\n",
       "      <td>3</td>\n",
       "      <td>357</td>\n",
       "      <td>71788.6906</td>\n",
       "    </tr>\n",
       "    <tr>\n",
       "      <th>3</th>\n",
       "      <td>4</td>\n",
       "      <td>305</td>\n",
       "      <td>65094.9490</td>\n",
       "    </tr>\n",
       "    <tr>\n",
       "      <th>4</th>\n",
       "      <td>5</td>\n",
       "      <td>362</td>\n",
       "      <td>64277.0788</td>\n",
       "    </tr>\n",
       "    <tr>\n",
       "      <th>5</th>\n",
       "      <td>6</td>\n",
       "      <td>270</td>\n",
       "      <td>51099.1360</td>\n",
       "    </tr>\n",
       "    <tr>\n",
       "      <th>6</th>\n",
       "      <td>7</td>\n",
       "      <td>294</td>\n",
       "      <td>62393.9465</td>\n",
       "    </tr>\n",
       "    <tr>\n",
       "      <th>7</th>\n",
       "      <td>8</td>\n",
       "      <td>348</td>\n",
       "      <td>100560.3526</td>\n",
       "    </tr>\n",
       "    <tr>\n",
       "      <th>8</th>\n",
       "      <td>9</td>\n",
       "      <td>344</td>\n",
       "      <td>66582.3650</td>\n",
       "    </tr>\n",
       "    <tr>\n",
       "      <th>9</th>\n",
       "      <td>10</td>\n",
       "      <td>295</td>\n",
       "      <td>62563.7830</td>\n",
       "    </tr>\n",
       "    <tr>\n",
       "      <th>10</th>\n",
       "      <td>11</td>\n",
       "      <td>351</td>\n",
       "      <td>68274.3135</td>\n",
       "    </tr>\n",
       "    <tr>\n",
       "      <th>11</th>\n",
       "      <td>12</td>\n",
       "      <td>334</td>\n",
       "      <td>64819.3662</td>\n",
       "    </tr>\n",
       "    <tr>\n",
       "      <th>12</th>\n",
       "      <td>13</td>\n",
       "      <td>329</td>\n",
       "      <td>77964.3284</td>\n",
       "    </tr>\n",
       "    <tr>\n",
       "      <th>13</th>\n",
       "      <td>14</td>\n",
       "      <td>335</td>\n",
       "      <td>70330.9165</td>\n",
       "    </tr>\n",
       "    <tr>\n",
       "      <th>14</th>\n",
       "      <td>15</td>\n",
       "      <td>264</td>\n",
       "      <td>57091.8050</td>\n",
       "    </tr>\n",
       "    <tr>\n",
       "      <th>15</th>\n",
       "      <td>16</td>\n",
       "      <td>265</td>\n",
       "      <td>72464.2735</td>\n",
       "    </tr>\n",
       "    <tr>\n",
       "      <th>16</th>\n",
       "      <td>17</td>\n",
       "      <td>347</td>\n",
       "      <td>111719.9342</td>\n",
       "    </tr>\n",
       "    <tr>\n",
       "      <th>17</th>\n",
       "      <td>18</td>\n",
       "      <td>324</td>\n",
       "      <td>90587.3005</td>\n",
       "    </tr>\n",
       "    <tr>\n",
       "      <th>18</th>\n",
       "      <td>19</td>\n",
       "      <td>328</td>\n",
       "      <td>77253.7602</td>\n",
       "    </tr>\n",
       "    <tr>\n",
       "      <th>19</th>\n",
       "      <td>20</td>\n",
       "      <td>390</td>\n",
       "      <td>69898.6866</td>\n",
       "    </tr>\n",
       "    <tr>\n",
       "      <th>20</th>\n",
       "      <td>21</td>\n",
       "      <td>388</td>\n",
       "      <td>94842.8728</td>\n",
       "    </tr>\n",
       "    <tr>\n",
       "      <th>21</th>\n",
       "      <td>22</td>\n",
       "      <td>281</td>\n",
       "      <td>66279.4950</td>\n",
       "    </tr>\n",
       "    <tr>\n",
       "      <th>22</th>\n",
       "      <td>23</td>\n",
       "      <td>357</td>\n",
       "      <td>88779.6290</td>\n",
       "    </tr>\n",
       "    <tr>\n",
       "      <th>23</th>\n",
       "      <td>24</td>\n",
       "      <td>298</td>\n",
       "      <td>77146.8530</td>\n",
       "    </tr>\n",
       "    <tr>\n",
       "      <th>24</th>\n",
       "      <td>25</td>\n",
       "      <td>322</td>\n",
       "      <td>80400.9378</td>\n",
       "    </tr>\n",
       "    <tr>\n",
       "      <th>25</th>\n",
       "      <td>26</td>\n",
       "      <td>357</td>\n",
       "      <td>73507.6200</td>\n",
       "    </tr>\n",
       "    <tr>\n",
       "      <th>26</th>\n",
       "      <td>27</td>\n",
       "      <td>268</td>\n",
       "      <td>58700.3251</td>\n",
       "    </tr>\n",
       "    <tr>\n",
       "      <th>27</th>\n",
       "      <td>28</td>\n",
       "      <td>280</td>\n",
       "      <td>63308.6986</td>\n",
       "    </tr>\n",
       "    <tr>\n",
       "      <th>28</th>\n",
       "      <td>29</td>\n",
       "      <td>230</td>\n",
       "      <td>44334.4267</td>\n",
       "    </tr>\n",
       "    <tr>\n",
       "      <th>29</th>\n",
       "      <td>30</td>\n",
       "      <td>295</td>\n",
       "      <td>64858.2714</td>\n",
       "    </tr>\n",
       "    <tr>\n",
       "      <th>30</th>\n",
       "      <td>31</td>\n",
       "      <td>183</td>\n",
       "      <td>49703.5248</td>\n",
       "    </tr>\n",
       "  </tbody>\n",
       "</table>\n",
       "</div>"
      ],
      "text/plain": [
       "    order_day  order_count  total_sales\n",
       "0           1          329   90957.9824\n",
       "1           2          370  103951.1600\n",
       "2           3          357   71788.6906\n",
       "3           4          305   65094.9490\n",
       "4           5          362   64277.0788\n",
       "5           6          270   51099.1360\n",
       "6           7          294   62393.9465\n",
       "7           8          348  100560.3526\n",
       "8           9          344   66582.3650\n",
       "9          10          295   62563.7830\n",
       "10         11          351   68274.3135\n",
       "11         12          334   64819.3662\n",
       "12         13          329   77964.3284\n",
       "13         14          335   70330.9165\n",
       "14         15          264   57091.8050\n",
       "15         16          265   72464.2735\n",
       "16         17          347  111719.9342\n",
       "17         18          324   90587.3005\n",
       "18         19          328   77253.7602\n",
       "19         20          390   69898.6866\n",
       "20         21          388   94842.8728\n",
       "21         22          281   66279.4950\n",
       "22         23          357   88779.6290\n",
       "23         24          298   77146.8530\n",
       "24         25          322   80400.9378\n",
       "25         26          357   73507.6200\n",
       "26         27          268   58700.3251\n",
       "27         28          280   63308.6986\n",
       "28         29          230   44334.4267\n",
       "29         30          295   64858.2714\n",
       "30         31          183   49703.5248"
      ]
     },
     "metadata": {},
     "output_type": "display_data"
    }
   ],
   "source": [
    "query = \"\"\"\n",
    "SELECT DAY(order_date) AS order_day,\n",
    "    COUNT(*) AS order_count,\n",
    "    SUM(Sales) AS total_sales\n",
    "FROM clean_sales_data\n",
    "GROUP BY order_day\n",
    "ORDER BY order_day;\n",
    "\"\"\"\n",
    "\n",
    "day = pd.read_sql(query, engine)\n",
    "display(day)\n"
   ]
  },
  {
   "cell_type": "code",
   "execution_count": 196,
   "id": "fdb55dcd-a970-4906-94ca-824241214688",
   "metadata": {},
   "outputs": [
    {
     "name": "stderr",
     "output_type": "stream",
     "text": [
      "C:\\Users\\meghu\\AppData\\Local\\Temp\\ipykernel_13856\\865314183.py:6: FutureWarning: \n",
      "\n",
      "Passing `palette` without assigning `hue` is deprecated and will be removed in v0.14.0. Assign the `x` variable to `hue` and set `legend=False` for the same effect.\n",
      "\n",
      "  sns.barplot(data=day, x='order_day', y='total_sales', palette='viridis')\n"
     ]
    },
    {
     "data": {
      "image/png": "[encoded data removed]",
      "text/plain": [
       "<Figure size 1200x600 with 1 Axes>"
      ]
     },
     "metadata": {},
     "output_type": "display_data"
    }
   ],
   "source": [
    "import pandas as pd\n",
    "import seaborn as sns\n",
    "import matplotlib.pyplot as plt\n",
    "\n",
    "plt.figure(figsize=(12,6))\n",
    "sns.barplot(data=day, x='order_day', y='total_sales', palette='viridis')\n",
    "plt.title('Total Sales by Day of the Month')\n",
    "plt.xlabel('Day of Month')\n",
    "plt.ylabel('Total Sales')\n",
    "plt.grid(axis='y', linestyle='--', alpha=0.6)\n",
    "plt.tight_layout()\n",
    "plt.show()\n"
   ]
  },
  {
   "cell_type": "markdown",
   "id": "a01b9a4b-37a7-40f4-ac64-42ecba72ba42",
   "metadata": {},
   "source": [
    "## Time-Based Sales Trends Summary\n",
    "\n",
    "- Sales has been gradually increasing year by year from 2015(490K) to 2018(720K)\n",
    "- November and December are the peak months(300K - 350K), might be due to the holiday season - Black Friday and Christmas Promotions\n",
    "- Q4(900K) is the peak quarter likely due to year-end holidays\n",
    "- Tuesday and Saturday saw the highest sales, both over 420K USD, while Thursday had the lowest (~140K USD). Sales tend to peak on weekends and early weekdays, with a noticeable midweek dip.\n",
    "- Sales appear relatively higher on the 2nd, 8th, and 17th of each month, with a few dips around the end of the month."
   ]
  },
  {
   "cell_type": "code",
   "execution_count": null,
   "id": "be5e6608-3ab4-4065-b6d7-8eda000f8962",
   "metadata": {},
   "outputs": [],
   "source": []
  }
 ],
 "metadata": {
  "kernelspec": {
   "display_name": "Python [conda env:base] *",
   "language": "python",
   "name": "conda-base-py"
  },
  "language_info": {
   "codemirror_mode": {
    "name": "ipython",
    "version": 3
   },
   "file_extension": ".py",
   "mimetype": "text/x-python",
   "name": "python",
   "nbconvert_exporter": "python",
   "pygments_lexer": "ipython3",
   "version": "3.13.5"
  }
 },
 "nbformat": 4,
 "nbformat_minor": 5
}
